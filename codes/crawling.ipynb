{
 "cells": [
  {
   "cell_type": "code",
   "execution_count": 1,
   "metadata": {},
   "outputs": [],
   "source": [
    "import pandas as pd\n",
    "import numpy as np"
   ]
  },
  {
   "cell_type": "markdown",
   "metadata": {},
   "source": [
    "## step 1. Crawling comments from Youtube url\n",
    "\n",
    "    - input: specific Youtube url \n",
    "\n",
    "    - output: \n",
    "\n",
    "* reference: [Selenium을 이용해 Youtube 댓글 가져오기](https://somjang.tistory.com/entry/PythonSelenium%EC%9D%84-%EC%82%AC%EC%9A%A9%ED%95%98%EC%97%AC-%EC%9C%A0%ED%8A%9C%EB%B8%8C-%EB%8C%93%EA%B8%80-%EA%B0%80%EC%A0%B8%EC%98%A4%EA%B8%B0\n",
    "\n",
    "    - 기존 [Youtube-Comment-Crawler](https://github.com/SOMJANG/Youtube_Comment_Crawler)는 Mac에서 돌아가지 않으므로, 이를 보완 "
   ]
  },
  {
   "cell_type": "code",
   "execution_count": 2,
   "metadata": {},
   "outputs": [
    {
     "name": "stdout",
     "output_type": "stream",
     "text": [
      "Requirement already satisfied: selenium in /opt/anaconda3/lib/python3.7/site-packages (3.141.0)\n",
      "Requirement already satisfied: urllib3 in /opt/anaconda3/lib/python3.7/site-packages (from selenium) (1.25.8)\n",
      "\u001b[33mWARNING: You are using pip version 20.2.3; however, version 20.3 is available.\n",
      "You should consider upgrading via the '/opt/anaconda3/bin/python -m pip install --upgrade pip' command.\u001b[0m\n"
     ]
    }
   ],
   "source": [
    "! pip install selenium"
   ]
  },
  {
   "cell_type": "code",
   "execution_count": 6,
   "metadata": {},
   "outputs": [
    {
     "name": "stdout",
     "output_type": "stream",
     "text": [
      "/bin/sh: brew: command not found\n"
     ]
    }
   ],
   "source": [
    "! brew install chromedriver"
   ]
  },
  {
   "cell_type": "code",
   "execution_count": 3,
   "metadata": {},
   "outputs": [],
   "source": [
    "from selenium import webdriver\n",
    "from selenium.common.exceptions import TimeoutException\n",
    "from selenium.webdriver.support.ui import WebDriverWait # available since 2.4.0\n",
    "from selenium.webdriver.support import expected_conditions as EC # available since 2.26.0\n",
    "import time\n",
    "from bs4 import BeautifulSoup\n",
    "import pandas as pd\n",
    "import requests\n",
    "import re"
   ]
  },
  {
   "cell_type": "code",
   "execution_count": 4,
   "metadata": {},
   "outputs": [],
   "source": [
    "# for test new webdriver\n",
    "chrome_options = webdriver.ChromeOptions()\n",
    "\n",
    "driver = webdriver.Chrome(executable_path='/usr/local/bin/chromedriver') # chromedriver 설치 후, /usr/local/bin/으로 옮겨줘야 함 \n",
    "driver.get('http://www.google.com/xhtml');\n",
    "time.sleep(5)\n",
    "\n",
    "search_box = driver.find_element_by_name('q')\n",
    "search_box.send_keys('ChromeDriver')\n",
    "search_box.submit()\n",
    "time.sleep(5)\n",
    "\n",
    "driver.quit()"
   ]
  },
  {
   "cell_type": "code",
   "execution_count": 61,
   "metadata": {},
   "outputs": [],
   "source": [
    "def crawl_youtube_page_html_sources(url):\n",
    "    html_sources = []\n",
    "\n",
    "    for i in range(5):\n",
    "        driver = webdriver.Chrome(executable_path='/usr/local/bin/chromedriver') # chromedriver 설치 후, /usr/local/bin/으로 옮겨줘야 함 \n",
    "        driver.get(url)\n",
    "        time.sleep(5)\n",
    "        last_page_height = driver.execute_script(\"return document.body.scrollHeight\")\n",
    "        # last_page_height = driver.execute_script(\"return document.documentElement.scrollHeight\")\n",
    "        while True:\n",
    "            time.sleep(5)\n",
    "            #driver.execute_script(\"window.scrollTo(0, document.documentElement.scrollHeight);\")\n",
    "            driver.execute_script(\"window.scrollTo(0, document.body.scrollHeight-50);\")\n",
    "            time.sleep(5)\n",
    "            #new_page_height = driver.execute_script(\"return document.documentElement.scrollHeight\")\n",
    "            new_page_height = driver.execute_script(\"return document.body.scrollHeight\")\n",
    "            if new_page_height == last_page_height:\n",
    "                break\n",
    "            last_page_height = new_page_height\n",
    "\n",
    "\n",
    "        html_source = driver.page_source\n",
    "        html_sources.append(html_source)\n",
    "\n",
    "        driver.quit()\n",
    "    return html_sources"
   ]
  },
  {
   "cell_type": "code",
   "execution_count": 62,
   "metadata": {},
   "outputs": [],
   "source": [
    "def get_user_IDs_and_comments(html_sources):\n",
    "    my_dataframes = []\n",
    "    for html in html_sources:\n",
    "        \n",
    "        soup = BeautifulSoup(html, 'lxml')\n",
    "        total_comments = soup.find(\"yt-formatted-string\", class_ =\"count-text style-scope ytd-comments-header-renderer\").text\n",
    "        print('총', end = '')\n",
    "        print(total_comments)\n",
    "        youtube_user_IDs = soup.select('div#header-author > a > span')\n",
    "        youtube_comments = soup.select('yt-formatted-string#content-text') ##content-text > span:nth-child(1) \n",
    "        youtube_likes = soup.select('div#toolbar > span#vote-count-middle')\n",
    "\n",
    "        str_youtube_userIDs = []\n",
    "        str_youtube_comments = []\n",
    "        str_youtube_likes = []\n",
    "\n",
    "        for i in range(len(youtube_user_IDs)):\n",
    "            # user id \n",
    "            str_tmp = str(youtube_user_IDs[i].text)\n",
    "            str_tmp = str_tmp.replace('\\n', ' ')\n",
    "            str_tmp = str_tmp.replace('\\t', ' ')\n",
    "            str_tmp = str_tmp.replace('                ',' ')\n",
    "            str_youtube_userIDs.append(str_tmp)\n",
    "            # comments\n",
    "            str_tmp = str(youtube_comments[i].text) \n",
    "            str_tmp = str_tmp.replace('\\n', '')\n",
    "            str_tmp = str_tmp.replace('\\t', '')\n",
    "            str_tmp = str_tmp.replace('               ', ' ')\n",
    "            str_youtube_comments.append(str_tmp)\n",
    "            # likes\n",
    "            str_tmp = str(youtube_likes[i].text)\n",
    "            str_tmp = str_tmp.replace('\\n', '')\n",
    "            str_tmp = str_tmp.replace('\\t', '')\n",
    "            str_tmp = str_tmp.replace('               ', ' ')\n",
    "            str_youtube_likes.append(str_tmp)\n",
    "            \n",
    "        pd_data = {\"ID\":str_youtube_userIDs, \"Comment\":str_youtube_comments, \"Like\": str_youtube_likes }\n",
    "        youtube_pd = pd.DataFrame(pd_data)\n",
    "        my_dataframes.append(youtube_pd)\n",
    "        \n",
    "    return my_dataframes"
   ]
  },
  {
   "cell_type": "code",
   "execution_count": 68,
   "metadata": {},
   "outputs": [],
   "source": [
    "def crawling_url(url):\n",
    "    html_sorces = crawl_youtube_page_html_sources(urls)\n",
    "    my_df = get_user_IDs_and_comments(html_sorces)\n",
    "    df = my_df[0]\n",
    "    for i in range(1,len(my_df)):\n",
    "        df = pd.concat([df, my_df[i]])\n",
    "    df = df.drop_duplicates()        \n",
    "    return df "
   ]
  },
  {
   "cell_type": "code",
   "execution_count": 64,
   "metadata": {},
   "outputs": [
    {
     "name": "stdout",
     "output_type": "stream",
     "text": [
      "총댓글 207개\n",
      "총댓글 207개\n",
      "총댓글 207개\n",
      "총댓글 207개\n",
      "총댓글 207개\n"
     ]
    }
   ],
   "source": [
    "urls = 'https://www.youtube.com/watch?v=zuULD1jz50c'\n",
    "cmts = crawling_url(urls) # comments output after crawling"
   ]
  },
  {
   "cell_type": "code",
   "execution_count": 69,
   "metadata": {},
   "outputs": [],
   "source": [
    "cmts = cmts.drop_duplicates()"
   ]
  },
  {
   "cell_type": "code",
   "execution_count": 70,
   "metadata": {},
   "outputs": [
    {
     "data": {
      "text/html": [
       "<div>\n",
       "<style scoped>\n",
       "    .dataframe tbody tr th:only-of-type {\n",
       "        vertical-align: middle;\n",
       "    }\n",
       "\n",
       "    .dataframe tbody tr th {\n",
       "        vertical-align: top;\n",
       "    }\n",
       "\n",
       "    .dataframe thead th {\n",
       "        text-align: right;\n",
       "    }\n",
       "</style>\n",
       "<table border=\"1\" class=\"dataframe\">\n",
       "  <thead>\n",
       "    <tr style=\"text-align: right;\">\n",
       "      <th></th>\n",
       "      <th>ID</th>\n",
       "      <th>Comment</th>\n",
       "      <th>Like</th>\n",
       "    </tr>\n",
       "  </thead>\n",
       "  <tbody>\n",
       "    <tr>\n",
       "      <th>0</th>\n",
       "      <td>주녀니</td>\n",
       "      <td>엊그제 22000명, 500명, 어제 14000명, 450명 / 단순 비율 계산을 ...</td>\n",
       "      <td>47</td>\n",
       "    </tr>\n",
       "    <tr>\n",
       "      <th>1</th>\n",
       "      <td>허진혁</td>\n",
       "      <td>경제경제 거릴거면 기준왜만든건데 ㅋㅋ2.5단계 기준넘었으면 입 다물고 격상해라 버티지말고</td>\n",
       "      <td>40</td>\n",
       "    </tr>\n",
       "    <tr>\n",
       "      <th>2</th>\n",
       "      <td>개숙자</td>\n",
       "      <td>제발 줄었다는 뉴스 내보내지 말아주세요 이런뉴스보고 사람들 또 활보합니다--</td>\n",
       "      <td>11</td>\n",
       "    </tr>\n",
       "    <tr>\n",
       "      <th>3</th>\n",
       "      <td>이민한</td>\n",
       "      <td>주말은 검사소 자체가 반이싱 쉰다</td>\n",
       "      <td>45</td>\n",
       "    </tr>\n",
       "    <tr>\n",
       "      <th>4</th>\n",
       "      <td>은꽃</td>\n",
       "      <td>검사 숫자 대비 확진자 발표를 하셔야죠5000명 검사중 450명 확진인지7000명 ...</td>\n",
       "      <td>20</td>\n",
       "    </tr>\n",
       "    <tr>\n",
       "      <th>...</th>\n",
       "      <td>...</td>\n",
       "      <td>...</td>\n",
       "      <td>...</td>\n",
       "    </tr>\n",
       "    <tr>\n",
       "      <th>100</th>\n",
       "      <td>임형</td>\n",
       "      <td>일요일,월요일 발표자료는 주말에 검사자가 적어서 확진자도 적다</td>\n",
       "      <td>5</td>\n",
       "    </tr>\n",
       "    <tr>\n",
       "      <th>101</th>\n",
       "      <td>의병장,조작된 우리역사 찾기</td>\n",
       "      <td>제주는 하루 10만명이상이 들어오는데.. 확진자가 왜 없을까요? 그건 바로 동선공개...</td>\n",
       "      <td>5</td>\n",
       "    </tr>\n",
       "    <tr>\n",
       "      <th>102</th>\n",
       "      <td>지혜</td>\n",
       "      <td>K방역  으샤으샤 화이팅 !!</td>\n",
       "      <td>1</td>\n",
       "    </tr>\n",
       "    <tr>\n",
       "      <th>103</th>\n",
       "      <td>하하늘과 나</td>\n",
       "      <td>윤석열 코로나 균 처럼 징글징글하다 찌질하게 놀지말고 사표 쓰고 국민의힘 당 으로 ...</td>\n",
       "      <td>1</td>\n",
       "    </tr>\n",
       "    <tr>\n",
       "      <th>104</th>\n",
       "      <td>전승협</td>\n",
       "      <td>외국에서 백신부터 구해라...일본도 구해서 투약중인데...뭐하냐?</td>\n",
       "      <td>0</td>\n",
       "    </tr>\n",
       "  </tbody>\n",
       "</table>\n",
       "<p>105 rows × 3 columns</p>\n",
       "</div>"
      ],
      "text/plain": [
       "                                          ID  \\\n",
       "0                             주녀니              \n",
       "1                             허진혁              \n",
       "2                             개숙자              \n",
       "3                             이민한              \n",
       "4                              은꽃              \n",
       "..                                       ...   \n",
       "100                            임형              \n",
       "101               의병장,조작된 우리역사 찾기              \n",
       "102                            지혜              \n",
       "103                        하하늘과 나              \n",
       "104                           전승협              \n",
       "\n",
       "                                               Comment      Like  \n",
       "0    엊그제 22000명, 500명, 어제 14000명, 450명 / 단순 비율 계산을 ...      47    \n",
       "1    경제경제 거릴거면 기준왜만든건데 ㅋㅋ2.5단계 기준넘었으면 입 다물고 격상해라 버티지말고      40    \n",
       "2           제발 줄었다는 뉴스 내보내지 말아주세요 이런뉴스보고 사람들 또 활보합니다--      11    \n",
       "3                                   주말은 검사소 자체가 반이싱 쉰다      45    \n",
       "4    검사 숫자 대비 확진자 발표를 하셔야죠5000명 검사중 450명 확진인지7000명 ...      20    \n",
       "..                                                 ...       ...  \n",
       "100                 일요일,월요일 발표자료는 주말에 검사자가 적어서 확진자도 적다       5    \n",
       "101  제주는 하루 10만명이상이 들어오는데.. 확진자가 왜 없을까요? 그건 바로 동선공개...       5    \n",
       "102                                   K방역  으샤으샤 화이팅 !!       1    \n",
       "103  윤석열 코로나 균 처럼 징글징글하다 찌질하게 놀지말고 사표 쓰고 국민의힘 당 으로 ...       1    \n",
       "104               외국에서 백신부터 구해라...일본도 구해서 투약중인데...뭐하냐?       0    \n",
       "\n",
       "[105 rows x 3 columns]"
      ]
     },
     "execution_count": 70,
     "metadata": {},
     "output_type": "execute_result"
    }
   ],
   "source": [
    "cmts"
   ]
  }
 ],
 "metadata": {
  "kernelspec": {
   "display_name": "Python 3",
   "language": "python",
   "name": "python3"
  },
  "language_info": {
   "codemirror_mode": {
    "name": "ipython",
    "version": 3
   },
   "file_extension": ".py",
   "mimetype": "text/x-python",
   "name": "python",
   "nbconvert_exporter": "python",
   "pygments_lexer": "ipython3",
   "version": "3.7.6"
  }
 },
 "nbformat": 4,
 "nbformat_minor": 4
}
